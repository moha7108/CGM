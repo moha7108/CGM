{
 "cells": [
  {
   "cell_type": "markdown",
   "id": "cc97e768-bb37-44b5-bfbd-e3f0b86fedd5",
   "metadata": {},
   "source": [
    "# Conditional Variational Autoencoder"
   ]
  },
  {
   "cell_type": "markdown",
   "id": "8743937e-3ca0-4df5-a470-0f133b9ef73e",
   "metadata": {},
   "source": [
    "## Import Statements"
   ]
  },
  {
   "cell_type": "code",
   "execution_count": 4,
   "id": "db4c8689-28fd-4421-958a-c3e60e59b396",
   "metadata": {
    "tags": []
   },
   "outputs": [],
   "source": [
    "import numpy as np\n",
    "import torch\n",
    "from torch import nn\n",
    "import matplotlib.pyplot as plt\n",
    "from torchvision import datasets, transforms\n"
   ]
  },
  {
   "cell_type": "markdown",
   "id": "d0afcdfe-e5ea-4f55-a4ba-2711a59cbf6b",
   "metadata": {},
   "source": [
    "## Dataset"
   ]
  },
  {
   "cell_type": "code",
   "execution_count": null,
   "id": "80a6d353-866f-49aa-af62-d64d8a4b5be8",
   "metadata": {},
   "outputs": [],
   "source": [
    "import os\n",
    "import pandas as pd\n",
    "from torchvision.io import read_image\n",
    "from torch.utils.data import Dataset\n",
    "\n",
    "class Komatsuna_rgb(Dataset):\n",
    "    def __init__(self):\n",
    "        self.image_files\n",
    "    def __len__(self):\n",
    "        return len(self.img_labels)\n",
    "    def __getitem__(self, idx):\n",
    "        pass \n",
    "    "
   ]
  },
  {
   "cell_type": "markdown",
   "id": "0366d183-6cd6-457c-b321-84c19a61a131",
   "metadata": {},
   "source": [
    "## Image Sequence Analysis CNN-RNN"
   ]
  },
  {
   "cell_type": "code",
   "execution_count": null,
   "id": "5a7a8190-dfbb-435c-8e28-a8530e271957",
   "metadata": {},
   "outputs": [],
   "source": []
  },
  {
   "cell_type": "markdown",
   "id": "0372984f-5be0-4023-947d-a893835eb604",
   "metadata": {},
   "source": [
    "## Model Architecture"
   ]
  },
  {
   "cell_type": "code",
   "execution_count": null,
   "id": "29acc8a8-b19a-4f5e-8caf-848fdc49a683",
   "metadata": {},
   "outputs": [],
   "source": [
    "class CVAE(nn.Module):\n",
    "    def __init__(self):\n",
    "        \n",
    "        super().__init__()\n",
    "        \n",
    "        self.encoder\n",
    "        \n",
    "        self.decoder\n",
    "        \n",
    "        def forward(self,x):\n",
    "            \n",
    "            x = self.encoder(x)\n",
    "            \n",
    "            x = self.decoder(x)\n",
    "            \n",
    "            return x"
   ]
  }
 ],
 "metadata": {
  "kernelspec": {
   "display_name": "Python 3 (ipykernel)",
   "language": "python",
   "name": "python3"
  },
  "language_info": {
   "codemirror_mode": {
    "name": "ipython",
    "version": 3
   },
   "file_extension": ".py",
   "mimetype": "text/x-python",
   "name": "python",
   "nbconvert_exporter": "python",
   "pygments_lexer": "ipython3",
   "version": "3.10.6"
  }
 },
 "nbformat": 4,
 "nbformat_minor": 5
}
