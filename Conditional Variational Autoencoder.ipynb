{
 "cells": [
  {
   "cell_type": "markdown",
   "id": "cc97e768-bb37-44b5-bfbd-e3f0b86fedd5",
   "metadata": {},
   "source": [
    "# Conditional Variational Autoencoder"
   ]
  },
  {
   "cell_type": "markdown",
   "id": "8743937e-3ca0-4df5-a470-0f133b9ef73e",
   "metadata": {},
   "source": [
    "## Import Statements"
   ]
  },
  {
   "cell_type": "code",
   "execution_count": 4,
   "id": "db4c8689-28fd-4421-958a-c3e60e59b396",
   "metadata": {
    "tags": []
   },
   "outputs": [],
   "source": [
    "import numpy as np\n",
    "import torch\n",
    "from torch import nn\n",
    "import matplotlib.pyplot as plt\n",
    "from torchvision import datasets, transforms"
   ]
  },
  {
   "cell_type": "markdown",
   "id": "0372984f-5be0-4023-947d-a893835eb604",
   "metadata": {},
   "source": [
    "## Model Architecture"
   ]
  },
  {
   "cell_type": "code",
   "execution_count": null,
   "id": "29acc8a8-b19a-4f5e-8caf-848fdc49a683",
   "metadata": {},
   "outputs": [],
   "source": [
    "class CVAE(nn.Module):\n",
    "    def __init__(self):\n",
    "        \n",
    "        super().__init__()\n",
    "        \n",
    "        self.encoder\n",
    "        \n",
    "        self.decoder\n",
    "        \n",
    "        def forward(self,x):\n",
    "            \n",
    "            x = self.encoder(x)\n",
    "            \n",
    "            x = self.decoder(x)\n",
    "            \n",
    "            return x"
   ]
  }
 ],
 "metadata": {
  "kernelspec": {
   "display_name": "Python 3 (ipykernel)",
   "language": "python",
   "name": "python3"
  },
  "language_info": {
   "codemirror_mode": {
    "name": "ipython",
    "version": 3
   },
   "file_extension": ".py",
   "mimetype": "text/x-python",
   "name": "python",
   "nbconvert_exporter": "python",
   "pygments_lexer": "ipython3",
   "version": "3.10.6"
  }
 },
 "nbformat": 4,
 "nbformat_minor": 5
}
