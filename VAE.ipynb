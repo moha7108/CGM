{
 "cells": [
  {
   "cell_type": "markdown",
   "id": "6db8c317-5363-4f15-ace9-f636533440a3",
   "metadata": {},
   "source": [
    "# Variational AutoEncoder"
   ]
  },
  {
   "cell_type": "markdown",
   "id": "60e7bb60-a55c-4647-b35f-d009e025e71a",
   "metadata": {},
   "source": [
    "## Import statements + Device"
   ]
  },
  {
   "cell_type": "code",
   "execution_count": null,
   "id": "576f4094-d0c2-48f3-881b-4d21be6485bb",
   "metadata": {},
   "outputs": [],
   "source": []
  }
 ],
 "metadata": {
  "kernelspec": {
   "display_name": "Python 3 (ipykernel)",
   "language": "python",
   "name": "python3"
  },
  "language_info": {
   "codemirror_mode": {
    "name": "ipython",
    "version": 3
   },
   "file_extension": ".py",
   "mimetype": "text/x-python",
   "name": "python",
   "nbconvert_exporter": "python",
   "pygments_lexer": "ipython3",
   "version": "3.10.6"
  }
 },
 "nbformat": 4,
 "nbformat_minor": 5
}
